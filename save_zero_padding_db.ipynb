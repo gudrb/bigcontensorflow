{
 "cells": [
  {
   "cell_type": "code",
   "execution_count": 251,
   "metadata": {},
   "outputs": [],
   "source": [
    "import pandas as pd\n",
    "import numpy as np\n",
    "from math import sqrt\n",
    "import sqlite3\n",
    "import matplotlib.pyplot as plt\n",
    "from sklearn.preprocessing import MinMaxScaler\n",
    "from sklearn.preprocessing import StandardScaler\n",
    "import pickle\n",
    "from datetime import datetime,timedelta\n",
    "from pandas import Series, DataFrame\n",
    "def convert(s):\n",
    "    return datetime.strptime(s, '%Y-%m-%d').date()\n",
    "features = pd.read_sql(\"SELECT * FROM 'features'\", con, index_col=None)\n",
    "conn = sqlite3.connect('./movies2.db')\n",
    "c = conn.cursor()\n"
   ]
  },
  {
   "cell_type": "code",
   "execution_count": 252,
   "metadata": {
    "scrolled": true
   },
   "outputs": [],
   "source": [
    "j=0\n",
    "for rows in features.iterrows():\n",
    "    tmp = pd.read_sql(\"SELECT * FROM \"+ \"'\" +rows[1][1]+ \"'\", con, index_col=None)\n",
    "    now = convert(rows[1][3])\n",
    "    L=[]\n",
    "    L=pd.date_range(start = now - timedelta(days=23),end= now + timedelta(days=23))\n",
    "\n",
    "    df = pd.DataFrame(index=range(47))\n",
    "    df[:]=\"0\"\n",
    "    df['date']=L.strftime(\"%Y-%m-%d\")\n",
    "    df.set_index(df['date'], inplace=True)\n",
    "\n",
    "\n",
    "    tmp.set_index(tmp['date'], inplace=True)\n",
    "    tmp=tmp[tmp['date']<(convert(rows[1][3])+ timedelta(days=24)).strftime(\"%Y-%m-%d\")]\n",
    "\n",
    "    df_merged = pd.merge(df,tmp, how=\"outer\")\n",
    "    df_merged.isnull()\n",
    "    # df_merged\n",
    "    \n",
    "    df_merged[df_merged.isnull()] = 0\n",
    "    df_merged=np.array(df_merged)\n",
    "    \n",
    "    var_string = ', '.join('?' * 3)\n",
    "    # var_string=array2d\n",
    "    c.execute(\"CREATE TABLE\"+\"'p\" +str(j)+ \"'\"+\"(date TEXT, audience TEXT, play TEXT)\")\n",
    "\n",
    "    query_string = 'INSERT INTO'+\"'p\" +str(j)+ \"'\"+' VALUES (%s);' % var_string\n",
    "\n",
    "    c.executemany(query_string,df_merged)\n",
    "    j =j+1\n",
    "conn.commit()"
   ]
  },
  {
   "cell_type": "code",
   "execution_count": 246,
   "metadata": {},
   "outputs": [
    {
     "data": {
      "text/plain": [
       "<sqlite3.Cursor at 0x1da0de0b6c0>"
      ]
     },
     "execution_count": 246,
     "metadata": {},
     "output_type": "execute_result"
    }
   ],
   "source": [
    "# c.execute('DROP TABLE pj')"
   ]
  },
  {
   "cell_type": "code",
   "execution_count": null,
   "metadata": {},
   "outputs": [],
   "source": [
    "import sqlite3\n",
    "\n",
    "conn = sqlite3.connect('./movies3.db')\n",
    "c = conn.cursor()"
   ]
  },
  {
   "cell_type": "code",
   "execution_count": 233,
   "metadata": {
    "scrolled": true
   },
   "outputs": [],
   "source": [
    "# array2d = [['?' for x in range(4)] for x in range(47)] \n",
    "\n",
    "\n",
    "\n",
    "# # var_string = ', '.join('?' * len(array2d))\n",
    "# var_string = ', '.join('?' * 3)\n",
    "#열 갯수 결정\n",
    "# # var_string=array2d\n",
    "# c.execute(\"CREATE TABLE\"+\"'\" +j+ \"'\"+\"(date TEXT, audience TEXT, play TEXT)\")\n",
    "\n",
    "# query_string = 'INSERT INTO'+\"'\" +j+ \"'\"+' VALUES (%s);' % var_string\n",
    "\n",
    "# c.executemany(query_string,df_merged)\n",
    "# conn.commit()"
   ]
  }
 ],
 "metadata": {
  "kernelspec": {
   "display_name": "Python 3",
   "language": "python",
   "name": "python3"
  },
  "language_info": {
   "codemirror_mode": {
    "name": "ipython",
    "version": 3
   },
   "file_extension": ".py",
   "mimetype": "text/x-python",
   "name": "python",
   "nbconvert_exporter": "python",
   "pygments_lexer": "ipython3",
   "version": "3.6.3"
  }
 },
 "nbformat": 4,
 "nbformat_minor": 2
}
