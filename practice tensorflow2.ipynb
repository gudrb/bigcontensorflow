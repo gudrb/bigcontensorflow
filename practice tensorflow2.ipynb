{
 "cells": [
  {
   "cell_type": "code",
   "execution_count": 15,
   "metadata": {},
   "outputs": [],
   "source": [
    "import tensorflow as tf\n",
    "graph = tf.Graph()\n",
    "with graph.as_default():\n",
    "    with tf.name_scope(\"Variables\"):\n",
    "        global_step = tf.Variable(0,dtype=tf.int32,trainable=False, name=\"global_step\")\n",
    "        total_output = tf.Variable(0.0,dtype=tf.float32,trainable=False,name=\"total_output\")\n",
    "    with tf.name_scope(\"transformation\"):\n",
    "        with tf.name_scope(\"input\"):\n",
    "            a = tf.placeholder(tf.float32, shape=[None], name=\"input_placeholder_a\")\n",
    "            \n",
    "        with tf.name_scope(\"intermediate_layer\"):\n",
    "            b = tf.reduce_prod(a, name=\"product_b\")\n",
    "            c = tf.reduce_sum(a, name=\"sum_c\")\n",
    "        with tf.name_scope(\"output\"):\n",
    "            d = tf.add(b,c,name=\"add_d\")\n",
    "    with tf.name_scope(\"update\"):\n",
    "        update_total = total_output.assign_add(d)\n",
    "        increment_step = global_step.assign_add(1)\n",
    "    with tf.name_scope(\"summaries\"):\n",
    "        avg = tf.div(update_total,tf.cast(increment_step,tf.float32),name=\"average\")\n",
    "        \n",
    "        tf.summary.scalar('Output',d)\n",
    "        tf.summary.scalar('Total',update_total)\n",
    "        tf.summary.scalar('Average',avg)\n",
    "        \n",
    "    with tf.name_scope(\"global_ops\"):\n",
    "        init = tf.global_variables_initializer()\n",
    "        merged_summaries = tf.summary.merge_all()\n",
    "        sess = tf.Session(graph=graph)\n",
    "        writer = tf.summary.FileWriter('./improved_graph2',graph)\n",
    "        sess.run(init)"
   ]
  },
  {
   "cell_type": "code",
   "execution_count": 18,
   "metadata": {},
   "outputs": [],
   "source": [
    "def run_graph(input_tensor):\n",
    "    feed_dict = {a:input_tensor}\n",
    "    _, step, summary = sess.run([d,increment_step,merged_summaries],feed_dict=feed_dict)\n",
    "    writer.add_summary(summary,global_step=step)"
   ]
  },
  {
   "cell_type": "code",
   "execution_count": 19,
   "metadata": {},
   "outputs": [],
   "source": [
    "run_graph([3,5])\n",
    "writer.flush()\n",
    "writer.close()\n",
    "writer.close()"
   ]
  },
  {
   "cell_type": "code",
   "execution_count": null,
   "metadata": {},
   "outputs": [],
   "source": []
  }
 ],
 "metadata": {
  "kernelspec": {
   "display_name": "Python 3",
   "language": "python",
   "name": "python3"
  },
  "language_info": {
   "codemirror_mode": {
    "name": "ipython",
    "version": 3
   },
   "file_extension": ".py",
   "mimetype": "text/x-python",
   "name": "python",
   "nbconvert_exporter": "python",
   "pygments_lexer": "ipython3",
   "version": "3.6.3"
  }
 },
 "nbformat": 4,
 "nbformat_minor": 2
}
