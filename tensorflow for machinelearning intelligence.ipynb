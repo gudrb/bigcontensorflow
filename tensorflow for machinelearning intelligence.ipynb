{
 "cells": [
  {
   "cell_type": "markdown",
   "metadata": {},
   "source": [
    "텐서: n차원 메트릭스"
   ]
  },
  {
   "cell_type": "markdown",
   "metadata": {},
   "source": [
    "process definition"
   ]
  },
  {
   "cell_type": "code",
   "execution_count": 1,
   "metadata": {},
   "outputs": [
    {
     "name": "stderr",
     "output_type": "stream",
     "text": [
      "C:\\Users\\gudrb\\Anaconda3\\lib\\site-packages\\h5py\\__init__.py:36: FutureWarning: Conversion of the second argument of issubdtype from `float` to `np.floating` is deprecated. In future, it will be treated as `np.float64 == np.dtype(float).type`.\n",
      "  from ._conv import register_converters as _register_converters\n",
      "C:\\Users\\gudrb\\Anaconda3\\lib\\site-packages\\h5py\\__init__.py:36: FutureWarning: Conversion of the second argument of issubdtype from `float` to `np.floating` is deprecated. In future, it will be treated as `np.float64 == np.dtype(float).type`.\n",
      "  from ._conv import register_converters as _register_converters\n"
     ]
    }
   ],
   "source": [
    "import tensorflow as tf\n",
    "a = tf.constant(5,name=\"input_a\")\n",
    "b = tf.constant(3,name=\"input_b\")\n",
    "c = tf.div(a,b, name=\"mul_c\")\n",
    "d = tf.subtract(a,b, name=\"add_d\")\n",
    "e = tf.add(c,d, name=\"add_e\")"
   ]
  },
  {
   "cell_type": "markdown",
   "metadata": {},
   "source": [
    "process activate"
   ]
  },
  {
   "cell_type": "code",
   "execution_count": 2,
   "metadata": {},
   "outputs": [
    {
     "data": {
      "text/plain": [
       "3"
      ]
     },
     "execution_count": 2,
     "metadata": {},
     "output_type": "execute_result"
    },
    {
     "data": {
      "text/plain": [
       "3"
      ]
     },
     "execution_count": 2,
     "metadata": {},
     "output_type": "execute_result"
    }
   ],
   "source": [
    "sess = tf.Session()\n",
    "sess.run(e)"
   ]
  },
  {
   "cell_type": "markdown",
   "metadata": {},
   "source": [
    "tensorboard"
   ]
  },
  {
   "cell_type": "code",
   "execution_count": 3,
   "metadata": {},
   "outputs": [],
   "source": [
    "writer = tf.summary.FileWriter('./my_graph',sess.graph) # 저장될곳 , tf.Session의 graph속성\n",
    "# terminal에 tensorboard --logdir=\"my_graph\" 입력"
   ]
  },
  {
   "cell_type": "code",
   "execution_count": 4,
   "metadata": {},
   "outputs": [],
   "source": [
    "sess.close()"
   ]
  },
  {
   "cell_type": "markdown",
   "metadata": {},
   "source": [
    "what is tensor?\n",
    "1dim tensor: vector\n",
    "2dim tensor: matrix"
   ]
  },
  {
   "cell_type": "code",
   "execution_count": 5,
   "metadata": {},
   "outputs": [],
   "source": [
    "a = tf.constant([5,3],name=\"input_a\")\n",
    "b = tf.reduce_prod(a, name=\"prod_b\") #텐서값들 곱\n",
    "c = tf.reduce_sum(a, name=\"sum_c\")# 텐서값들 합\n",
    "d = tf.add(b,c,name=\"add_d\")"
   ]
  },
  {
   "cell_type": "code",
   "execution_count": 6,
   "metadata": {},
   "outputs": [],
   "source": [
    "t_0 = 50 # 0차원 텐서\n",
    "t_1 = [\"apple\",\"peach\",\"grape\"]\n",
    "t_2 = [[True, False, False],\n",
    "      [False, False, False],\n",
    "      [False, True, False]]\n",
    "t_3 = [[ [0,0],[0,1],[0,2] ],\n",
    "      [ [1,0],[1,1],[1,2] ],\n",
    "      [ [2,0],[2,1],[2,2] ]]"
   ]
  },
  {
   "cell_type": "markdown",
   "metadata": {},
   "source": [
    "Tensor shape"
   ]
  },
  {
   "cell_type": "markdown",
   "metadata": {},
   "source": [
    "#Shapes that specify a 0-D Tensor (scalar)\n",
    "#e.g. any single number: 7,1,3,4,etc.\n",
    "s_0_list=[]\n",
    "s_0_tuple=()\n",
    "\n",
    "#Shapes that describes a vector of length 3\n",
    "#e.g. [1,2,3]\n",
    "s_1 = [3]\n",
    "\n",
    "#Shape that describes a 3-by-2 matrix\n",
    "s_2 = (3,2)\n",
    "\n",
    "#Shape for a vector any Length:\n",
    "s_1_flex = [None]\n",
    "\n",
    "#Shape for a matrix that is any amount of rows tall, and 3 columns wide:\n",
    "s_2_flex = (None, 3)\n",
    "\n",
    "s_3_flex = [2, None, None]\n",
    "\n",
    "#shape that could be any Tensor\n",
    "s_any = None\n",
    "\n",
    "shape = tf.shape(mystery_tensor, name = \"mystery_shape\")\n",
    "sess.run(shape)"
   ]
  },
  {
   "cell_type": "markdown",
   "metadata": {},
   "source": [
    "TensorFlow Operations:OPs는 텐서 객체에(또는 텐서 객체를 사용하여서)계산을 수행하는 노드이다."
   ]
  },
  {
   "cell_type": "code",
   "execution_count": 7,
   "metadata": {},
   "outputs": [],
   "source": [
    "import numpy as np\n",
    "\n",
    "#Initialize some tensors to use in computation\n",
    "a = np.array([2,3], dtype=np.int32)\n",
    "b = np.array([4,5], dtype=np.int32)\n",
    "\n",
    "#Use 'tf.add()' to initialize an \"add\" Operation\n",
    "#The variable 'c' will be a handle to the Tensor output of this Op\n",
    "c = tf.add(a,b)\n",
    "\n",
    "c = tf.add(a,b,name=\"my_add_op\")# name은 tensor board에서 사용"
   ]
  },
  {
   "cell_type": "markdown",
   "metadata": {},
   "source": [
    "overloaded operators\n",
    "\n",
    "-x: tf.neg()\n",
    "~x: tf.logical_not() : tf.bool type 텐서객체에 사용\n",
    "\n",
    "abs(x): tf.abs()\n",
    "\n",
    "x+y: tf.add()\n",
    "x-y: tf.subtract()\n",
    "x*y: tf.multiply()\n",
    "x/y: tf.truediv() : 요소간 실수 나눗셈\n",
    "x//y: tf.floordiv() : 요소간 정수 나눗셈\n",
    "x%y: tf.mod()\n",
    "x**y: tf.pow()\n",
    "x<y: tf.less()\n",
    "x<=y: tf.less_equal()\n",
    "x>y: tf.greater()\n",
    "x>=y: tf.greater_equal()\n",
    "x&y: tf.logical_and()\n",
    "x|y: tf.logial_or()\n",
    "x^y: tf.logical_xor()\n",
    "\n",
    "-> name 부여는 불가능"
   ]
  },
  {
   "cell_type": "markdown",
   "metadata": {},
   "source": [
    "tensorflow graph"
   ]
  },
  {
   "cell_type": "code",
   "execution_count": 9,
   "metadata": {},
   "outputs": [],
   "source": [
    "#Create a new graph: 자동으로 된다\n",
    "g = tf.Graph()\n",
    "with g.as_default():\n",
    "    # Create Operations as usual; they will be added to graph 'g'\n",
    "    a = tf.multiply(2,3)"
   ]
  },
  {
   "cell_type": "code",
   "execution_count": 11,
   "metadata": {},
   "outputs": [
    {
     "ename": "IndentationError",
     "evalue": "expected an indented block (<ipython-input-11-8e6c7f43f5bb>, line 8)",
     "output_type": "error",
     "traceback": [
      "\u001b[1;36m  File \u001b[1;32m\"<ipython-input-11-8e6c7f43f5bb>\"\u001b[1;36m, line \u001b[1;32m8\u001b[0m\n\u001b[1;33m    with g2.as_default():\u001b[0m\n\u001b[1;37m       ^\u001b[0m\n\u001b[1;31mIndentationError\u001b[0m\u001b[1;31m:\u001b[0m expected an indented block\n"
     ]
    },
    {
     "ename": "IndentationError",
     "evalue": "expected an indented block (<ipython-input-11-8e6c7f43f5bb>, line 8)",
     "output_type": "error",
     "traceback": [
      "\u001b[1;36m  File \u001b[1;32m\"<ipython-input-11-8e6c7f43f5bb>\"\u001b[1;36m, line \u001b[1;32m8\u001b[0m\n\u001b[1;33m    with g2.as_default():\u001b[0m\n\u001b[1;37m       ^\u001b[0m\n\u001b[1;31mIndentationError\u001b[0m\u001b[1;31m:\u001b[0m expected an indented block\n"
     ]
    }
   ],
   "source": [
    "#ignore default graph\n",
    "g1 = tf.Graph()\n",
    "g2 = tf.Graph()\n",
    "\n",
    "with g1.as_default():\n",
    "    # Define g1 operations, tensor, tensors, etc\n",
    "    \n",
    "with g2.as_default():\n",
    "    # Define g2 Operations, tensor, tensors, etc"
   ]
  },
  {
   "cell_type": "code",
   "execution_count": 12,
   "metadata": {},
   "outputs": [
    {
     "ename": "IndentationError",
     "evalue": "expected an indented block (<ipython-input-12-79974081b550>, line 8)",
     "output_type": "error",
     "traceback": [
      "\u001b[1;36m  File \u001b[1;32m\"<ipython-input-12-79974081b550>\"\u001b[1;36m, line \u001b[1;32m8\u001b[0m\n\u001b[1;33m    with g2.as_default():\u001b[0m\n\u001b[1;37m       ^\u001b[0m\n\u001b[1;31mIndentationError\u001b[0m\u001b[1;31m:\u001b[0m expected an indented block\n"
     ]
    },
    {
     "ename": "IndentationError",
     "evalue": "expected an indented block (<ipython-input-12-79974081b550>, line 8)",
     "output_type": "error",
     "traceback": [
      "\u001b[1;36m  File \u001b[1;32m\"<ipython-input-12-79974081b550>\"\u001b[1;36m, line \u001b[1;32m8\u001b[0m\n\u001b[1;33m    with g2.as_default():\u001b[0m\n\u001b[1;37m       ^\u001b[0m\n\u001b[1;31mIndentationError\u001b[0m\u001b[1;31m:\u001b[0m expected an indented block\n"
     ]
    }
   ],
   "source": [
    "#get handle to default graph\n",
    "g1 = tf.get_default_graph()\n",
    "g2 = tf.Graph()\n",
    "\n",
    "with g1.as_default():\n",
    "    # Define g1 operations, tensor, tensors,\n",
    "    \n",
    "with g2.as_default():\n",
    "    # Define g2 Operations, tensor, tensors, etc"
   ]
  },
  {
   "cell_type": "code",
   "execution_count": null,
   "metadata": {},
   "outputs": [],
   "source": [
    "# Create Operations, Tensors, ets(using the default graph)\n",
    "a = tf.add(2,5)\n",
    "b = tf.multiply(a,3)\n",
    "\n",
    "sess = tf.Session()\n",
    "#same\n",
    "sess = tf.Session(graph = tf.get_default_graph())\n",
    "\n",
    "sess.run(b)\n",
    "writer = tf.summary.FileWriter('./my_graph',sess.graph)"
   ]
  },
  {
   "cell_type": "markdown",
   "metadata": {},
   "source": [
    "fetches (가져옴)\n",
    "sess.run([a,b]) #returns [7,21]\n",
    "\n",
    "#performs the computations needed to initialize Variables,but returns 'None'\n",
    "sess.run(tf.initialize_all_variables()) ->run operation returns 'None'"
   ]
  },
  {
   "cell_type": "markdown",
   "metadata": {},
   "source": [
    "FEED dictionary"
   ]
  },
  {
   "cell_type": "code",
   "execution_count": null,
   "metadata": {},
   "outputs": [],
   "source": [
    "# Create Operations, Tensors, etc(using the default graph)\n",
    "a = tf.add(2,5)\n",
    "b = tf.multiply(a,3)\n",
    "\n",
    "#Strart up a 'Session' using the default graph\n",
    "sess = tf.Session()\n",
    "\n",
    "#Define a dictionary that says to replace the value of 'a' with 15\n",
    "replace_dict = {a: 15}\n",
    "\n",
    "#Run the session, passing in 'replace_dict' as the value to 'feed_dict'\n",
    "sess.run(b, feed_dict=replace_dict)\n",
    "\n",
    "sess.close()"
   ]
  },
  {
   "cell_type": "markdown",
   "metadata": {},
   "source": [
    "#Open Session\n",
    "sess = tf.Session()\n",
    "\n",
    "#Run the graph, write summary statistics, etc.\n",
    "...\n",
    "\n",
    "#Close the graph, release its resources\n",
    "sess.close()"
   ]
  },
  {
   "cell_type": "markdown",
   "metadata": {},
   "source": [
    "with tf.Session() as sess:\n",
    "    #Run graph, write summary statistics, etc.\n",
    "    ...\n",
    "#The Session closes automatically"
   ]
  },
  {
   "cell_type": "markdown",
   "metadata": {},
   "source": [
    "placeholder"
   ]
  },
  {
   "cell_type": "code",
   "execution_count": null,
   "metadata": {},
   "outputs": [],
   "source": [
    "#Creates a placeholder vector of length 2 with data type int32\n",
    "a = tf.placeholder(tf.int32, shape=[2], name=\"my_input\") # shape 는 default 로도 가능\n",
    "\n",
    "b = tf.reduce_prod(a, name=\"prod_b\")\n",
    "c = tf.reduce_sum(a, name=\"sum_c\")\n",
    "\n",
    "d = tf.add(b,c,name=\"add_d\")"
   ]
  },
  {
   "cell_type": "markdown",
   "metadata": {},
   "source": [
    "placeholder & dictionary"
   ]
  },
  {
   "cell_type": "code",
   "execution_count": null,
   "metadata": {},
   "outputs": [],
   "source": [
    "sess = tf.Session()\n",
    "\n",
    "# key: 'a', the handle to the placeholder's output Tensor\n",
    "# value: a vector with value [5,3]\n",
    "input_dict={a: np.array([5,3], dtype=np.int32)}\n",
    "\n",
    "# fetch the value of 'd'\n",
    "sess.run(d, feed_dict=input_dict)"
   ]
  },
  {
   "cell_type": "markdown",
   "metadata": {},
   "source": [
    "변수"
   ]
  },
  {
   "cell_type": "code",
   "execution_count": null,
   "metadata": {},
   "outputs": [],
   "source": [
    "import tensorflow as tf\n",
    "\n",
    "#pass in a starting value of three for the variable\n",
    "my_var = tf.Variable(3, name=\"my_variable\")"
   ]
  },
  {
   "cell_type": "code",
   "execution_count": null,
   "metadata": {},
   "outputs": [],
   "source": [
    "add = tf.add(5, my_var)\n",
    "mul = tf.multiply(8, my_var)"
   ]
  },
  {
   "cell_type": "markdown",
   "metadata": {},
   "source": [
    "#2x2 matrix of zeros\n",
    "zeros = tf.zeros([2, 2])\n",
    "\n",
    "#vector of lenth 6 of ones\n",
    "ones = tf.ones([6])\n",
    "\n",
    "#3x3x3 Tensor of random uniform values (균등 확률 분포: 무작위 생성) between 0 and 10\n",
    "uniform = tf.random_uniform([3,3,3], minval =0, maxval =10)\n",
    "\n",
    "#3x3x3 Tenssor of normally distributed numbers; mean 0 and standard deviation 2\n",
    "normal = tf.random_normal([3,3,3], mean=0.0, stddev =2.0)\n",
    "\n",
    "#표준편차 2배 이상인 값은 생성하지 않음\n",
    "normal = tf.truncated_normal([2,2], mean=5.0, stddev=1.0)"
   ]
  },
  {
   "cell_type": "code",
   "execution_count": null,
   "metadata": {},
   "outputs": [],
   "source": [
    "#default value of mean =0.0\n",
    "#default value of stddev=1.0\n",
    "random_var = tf.Variable(tf.truncated_normal([2,2]))"
   ]
  },
  {
   "cell_type": "code",
   "execution_count": null,
   "metadata": {},
   "outputs": [],
   "source": [
    "#graph로 자동 초기화된 variable을 모두 Session에서 초기화\n",
    "init = tf.global_variables_initializer()\n",
    "sess = tf.Session()\n",
    "sess.run(init)"
   ]
  },
  {
   "cell_type": "code",
   "execution_count": null,
   "metadata": {},
   "outputs": [],
   "source": [
    "var1 = tf.Variable(0, name=\"initialize_me\")\n",
    "var2 = tf.Variable(1, name=\"no_initialization\")\n",
    "#일부만 초기화\n",
    "init = tf.variables_initializer([var1], name=\"init_var1\")\n",
    "sess = tf.Session()\n",
    "sess.run(init)"
   ]
  },
  {
   "cell_type": "markdown",
   "metadata": {},
   "source": [
    "변수값 변경"
   ]
  },
  {
   "cell_type": "code",
   "execution_count": null,
   "metadata": {},
   "outputs": [],
   "source": [
    "my_var = tf.Variable(1)\n",
    "#Create an operation that multiplies the variable by 2 each time it is run\n",
    "my_var_times_two = my_var.assign(my_var *2)\n",
    "init = tf.initialize_all_variables()\n",
    "sess = tf.Session()\n",
    "sess.run(init)\n",
    "sess.run(my_var_times_two)\n",
    "sess.run(my_var_times_two)\n",
    "sess.run(my_var_times_two)"
   ]
  },
  {
   "cell_type": "code",
   "execution_count": null,
   "metadata": {},
   "outputs": [],
   "source": [
    "#변수값 증가\n",
    "sess.run(my_var.assign_add(1))"
   ]
  },
  {
   "cell_type": "code",
   "execution_count": null,
   "metadata": {},
   "outputs": [],
   "source": [
    "#변수값 감소\n",
    "sess.run(my_var.assign_sub(1))"
   ]
  },
  {
   "cell_type": "code",
   "execution_count": null,
   "metadata": {},
   "outputs": [],
   "source": [
    "# Create Ops\n",
    "my_var = tf.Variable(0)\n",
    "init = tf.initialize_all_variables()\n",
    "\n",
    "# Start Session\n",
    "sess1 = tf.Session()\n",
    "sess2 = tf.Session()\n",
    "\n",
    "sess1.run(init)\n",
    "sess1.run(my_var.assign_add(5))\n",
    "## out:5\n",
    "\n",
    "sess2.run(init)\n",
    "sess2.run(my_var.assign_add(2))\n",
    "## out:2\n",
    "\n",
    "sess1.run(my_var.assign_add(5))\n",
    "## out:10\n",
    "\n",
    "sess2.run(my_var.assign_add(2))\n",
    "## out:4"
   ]
  },
  {
   "cell_type": "markdown",
   "metadata": {},
   "source": [
    "변수 리셋"
   ]
  },
  {
   "cell_type": "code",
   "execution_count": null,
   "metadata": {},
   "outputs": [],
   "source": [
    "# Create Ops\n",
    "my_var - tf.Variable(0)\n",
    "init = tf.initialize_all_variables()\n",
    "\n",
    "#start Session\n",
    "sess = tf.Session()\n",
    "\n",
    "#Initialize Variables\n",
    "sess.run(init)\n",
    "\n",
    "#Change the Variable\n",
    "sess.run(my_var.assign(10))\n",
    "\n",
    "#Reset the Variable to 0, its initial value\n",
    "sess.run(init)"
   ]
  },
  {
   "cell_type": "markdown",
   "metadata": {},
   "source": [
    "trainable"
   ]
  },
  {
   "cell_type": "code",
   "execution_count": null,
   "metadata": {},
   "outputs": [],
   "source": [
    "#Optimizer에 의해 변경되면 안되는 변수 생성(수작업으로 변경)\n",
    "not_trainable = tf.Variable(0, trainable=False)"
   ]
  },
  {
   "cell_type": "markdown",
   "metadata": {},
   "source": [
    "graph name scope"
   ]
  },
  {
   "cell_type": "code",
   "execution_count": 3,
   "metadata": {},
   "outputs": [],
   "source": [
    "import tensorflow as tf\n",
    "with tf.name_scope(\"Scope_A\"):\n",
    "    a = tf.add(1,2,name=\"A_add\")\n",
    "    b = tf.multiply(a, 3, name=\"A_mul\")\n",
    "    \n",
    "with tf.name_scope(\"Scope_B\"):\n",
    "    c = tf.add(4, 5, name=\"B_add\")\n",
    "    d = tf.multiply(c, 6, name=\"B_mul\")\n",
    "e = tf.add(b,d, name=\"output\")\n",
    "#Graph()호출 안했을 시 default임\n",
    "writer = tf.summary.FileWriter('./name_scope_3',graph = tf.get_default_graph())\n",
    "# terminal에 tensorboard --logdir=\"name_scope_3\" 입력\n",
    "writer.close()"
   ]
  },
  {
   "cell_type": "code",
   "execution_count": 9,
   "metadata": {},
   "outputs": [],
   "source": [
    "graph = tf.Graph()\n",
    "\n",
    "with graph.as_default():\n",
    "    in_1 = tf.placeholder(tf.float32,shape=[], name=\"input_a\")\n",
    "    in_2 = tf.placeholder(tf.float32,shape=[], name=\"input_b\")\n",
    "    const = tf.constant(3, dtype=tf.float32,name=\"static_value\")\n",
    "    \n",
    "    with tf.name_scope(\"Transformation\"):\n",
    "        with tf.name_scope(\"A\"):\n",
    "            A_mul = tf.multiply(in_1, const)\n",
    "            A_out = tf.subtract(A_mul,in_1)\n",
    "        \n",
    "        with tf.name_scope(\"B\"):\n",
    "            B_mul = tf.multiply(in_2, const)\n",
    "            B_out = tf.subtract(B_mul,in_2)\n",
    "            \n",
    "        with tf.name_scope(\"C\"):\n",
    "            C_div = tf.div(A_out,B_out)\n",
    "            C_out = tf.add(C_div, const)\n",
    "        with tf.name_scope(\"D\"):\n",
    "            D_div = tf.div(B_out, A_out)\n",
    "            D_out = tf.add(D_div,const)\n",
    "    out = tf.maximum(C_out,D_out)\n",
    "    \n",
    "writer = tf.summary.FileWriter('./name_scope_3',graph=graph)\n",
    "writer.close()"
   ]
  },
  {
   "cell_type": "markdown",
   "metadata": {},
   "source": [
    "make Graph"
   ]
  },
  {
   "cell_type": "code",
   "execution_count": 15,
   "metadata": {
    "scrolled": true
   },
   "outputs": [],
   "source": [
    "import tensorflow as tf\n",
    "graph = tf.Graph()\n",
    "with graph.as_default():\n",
    "    with tf.name_scope(\"variables\"):\n",
    "        #Variable to keep track of how many times the graph has been run\n",
    "        global_step = tf.Variable(0, dtype=tf.int32, trainable=False, name=\"global_step\")\n",
    "        #Variable that keeps track of the sum of all output values over time:\n",
    "        total_output = tf.Variable(0.0, dtype=tf.float32, trainable=False, name=\"total_output\")\n",
    "\n",
    "    with tf.name_scope(\"trainsformation\"):\n",
    "        # Separate input layer\n",
    "        with tf.name_scope(\"input\"):\n",
    "            #Create input placeholder- takes in a Vector\n",
    "            a = tf.placeholder(tf.float32, shape=[None],name=\"input_placeholder_a\")\n",
    "\n",
    "        #Separate middle layer\n",
    "        with tf.name_scope(\"intermediate_layer\"):\n",
    "            b = tf.reduce_prod(a, name=\"product_b\")\n",
    "            c = tf.reduce_sum(a, name=\"sum_c\")\n",
    "        #Separate output Layer\n",
    "        with tf.name_scope(\"output\"):\n",
    "            output = tf.add(b,c,name=\"output\")    \n",
    "\n",
    "    with tf.name_scope(\"update\"):\n",
    "        #increments the total_output Variable by the latest output\n",
    "        update_total = total_output.assign_add(output)\n",
    "        #increments the above 'global_step' Variable, should be run whenever the graph is run\n",
    "        increment_step = global_step.assign_add(1)\n",
    "    \n",
    "    with tf.name_scope(\"summaries\"):\n",
    "        avg = tf.div(update_total, tf.cast(increment_step,tf.float32), name=\"average\")\n",
    "        \n",
    "        #Creates summaries for output node\n",
    "        tf.summary.scalar('Ouput',output)\n",
    "        tf.summary.scalar('Sum_of_outputs_over_time',update_total)\n",
    "        tf.summary.scalar('Average_of_outputs_over_time',avg)\n",
    "    with tf.name_scope(\"global_ops\"):\n",
    "        #initialization Op\n",
    "        init = tf.initialize_all_variables()\n",
    "        # Merge ass summaries into one Operation\n",
    "        merged_summaries = tf.summary.merge_all()\n",
    "        sess = tf.Session(graph=graph)\n",
    "        writer = tf.summary.FileWriter('./improved_graph',graph)\n",
    "        sess.run(init)"
   ]
  },
  {
   "cell_type": "code",
   "execution_count": 16,
   "metadata": {},
   "outputs": [],
   "source": [
    "def run_graph(input_tensor):\n",
    "    feed_dict = {a:input_tensor}\n",
    "    _,step,summary = sess.run([output,increment_step,merged_summaries],feed_dict=feed_dict)\n",
    "    writer.add_summary(summary,global_step=step)"
   ]
  },
  {
   "cell_type": "code",
   "execution_count": 17,
   "metadata": {},
   "outputs": [],
   "source": [
    "run_graph([2,8])\n",
    "run_graph([3,1,3,3])\n",
    "run_graph([8])\n",
    "run_graph([1,2,3])\n",
    "run_graph([11,4])\n",
    "run_graph([4,1])\n",
    "run_graph([7,3,1])\n",
    "run_graph([6,3])\n",
    "run_graph([0,2])\n",
    "run_graph([4,5,6])"
   ]
  },
  {
   "cell_type": "code",
   "execution_count": 18,
   "metadata": {},
   "outputs": [],
   "source": [
    "writer.flush()\n",
    "writer.close()\n",
    "sess.close()"
   ]
  }
 ],
 "metadata": {
  "kernelspec": {
   "display_name": "Python 3",
   "language": "python",
   "name": "python3"
  },
  "language_info": {
   "codemirror_mode": {
    "name": "ipython",
    "version": 3
   },
   "file_extension": ".py",
   "mimetype": "text/x-python",
   "name": "python",
   "nbconvert_exporter": "python",
   "pygments_lexer": "ipython3",
   "version": "3.6.3"
  }
 },
 "nbformat": 4,
 "nbformat_minor": 2
}
