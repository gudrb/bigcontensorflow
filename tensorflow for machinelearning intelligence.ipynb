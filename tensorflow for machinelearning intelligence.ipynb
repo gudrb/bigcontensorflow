{
 "cells": [
  {
   "cell_type": "markdown",
   "metadata": {},
   "source": [
    "텐서: n차원 메트릭스"
   ]
  },
  {
   "cell_type": "markdown",
   "metadata": {},
   "source": [
    "process definition"
   ]
  },
  {
   "cell_type": "code",
   "execution_count": 1,
   "metadata": {},
   "outputs": [
    {
     "name": "stderr",
     "output_type": "stream",
     "text": [
      "C:\\Users\\gudrb\\Anaconda3\\lib\\site-packages\\h5py\\__init__.py:36: FutureWarning: Conversion of the second argument of issubdtype from `float` to `np.floating` is deprecated. In future, it will be treated as `np.float64 == np.dtype(float).type`.\n",
      "  from ._conv import register_converters as _register_converters\n"
     ]
    }
   ],
   "source": [
    "import tensorflow as tf\n",
    "a = tf.constant(5,name=\"input_a\")\n",
    "b = tf.constant(3,name=\"input_b\")\n",
    "c = tf.div(a,b, name=\"mul_c\")\n",
    "d = tf.subtract(a,b, name=\"add_d\")\n",
    "e = tf.add(c,d, name=\"add_e\")"
   ]
  },
  {
   "cell_type": "markdown",
   "metadata": {},
   "source": [
    "process activate"
   ]
  },
  {
   "cell_type": "code",
   "execution_count": 2,
   "metadata": {},
   "outputs": [
    {
     "data": {
      "text/plain": [
       "3"
      ]
     },
     "execution_count": 2,
     "metadata": {},
     "output_type": "execute_result"
    }
   ],
   "source": [
    "sess = tf.Session()\n",
    "sess.run(e)"
   ]
  },
  {
   "cell_type": "markdown",
   "metadata": {},
   "source": [
    "tensorboard"
   ]
  },
  {
   "cell_type": "code",
   "execution_count": 4,
   "metadata": {},
   "outputs": [],
   "source": [
    "writer = tf.summary.FileWriter('./my_graph',sess.graph) # 저잘될곳 , tf.Session의 graph속성\n",
    "# terminal에 tensorboard --logdir=\"my_graph\" 입력"
   ]
  },
  {
   "cell_type": "code",
   "execution_count": 5,
   "metadata": {},
   "outputs": [],
   "source": [
    "sess.close()"
   ]
  },
  {
   "cell_type": "markdown",
   "metadata": {},
   "source": [
    "what is tensor?\n",
    "1dim tensor: vector\n",
    "2dim tensor: matrix"
   ]
  },
  {
   "cell_type": "code",
   "execution_count": 7,
   "metadata": {},
   "outputs": [],
   "source": [
    "a = tf.constant([5,3],name=\"input_a\")\n",
    "b = tf.reduce_prod(a, name=\"prod_b\") #텐서값들 곱\n",
    "c = tf.reduce_sum(a, name=\"sum_c\")# 텐서값들 합\n",
    "d = tf.add(b,c,name=\"add_d\")"
   ]
  },
  {
   "cell_type": "code",
   "execution_count": null,
   "metadata": {},
   "outputs": [],
   "source": [
    "t_0 = 50 # 0차원 텐서\n",
    "t_1 = [\"apple\",\"peach\",\"grape\"]\n",
    "t_2 = [[True, False, False],\n",
    "      [False, False, False],\n",
    "      [False, True, False]]\n",
    "t_3 = [[ [0,0],[0,1],[0,2] ],\n",
    "      [ [1,0],[1,1],[1,2] ],\n",
    "      [ [2,0],[2,1],[2,2] ]]"
   ]
  },
  {
   "cell_type": "markdown",
   "metadata": {},
   "source": [
    "Tensor shape"
   ]
  },
  {
   "cell_type": "markdown",
   "metadata": {},
   "source": [
    "#Shapes that specify a 0-D Tensor (scalar)\n",
    "#e.g. any single number: 7,1,3,4,etc.\n",
    "s_0_list=[]\n",
    "s_0_tuple=()\n",
    "\n",
    "#Shapes that describes a vector of length 3\n",
    "#e.g. [1,2,3]\n",
    "s_1 = [3]\n",
    "\n",
    "#Shape that describes a 3-by-2 matrix\n",
    "s_2 = (3,2)\n",
    "\n",
    "#Shape for a vector any Length:\n",
    "s_1_flex = [None]\n",
    "\n",
    "#Shape for a matrix that is any amount of rows tall, and 3 columns wide:\n",
    "s_2_flex = (None, 3)\n",
    "\n",
    "s_3_flex = [2, None, None]\n",
    "\n",
    "#shape that could be any Tensor\n",
    "s_any = None\n",
    "\n",
    "shape = tf.shape(mystery_tensor, name = \"mystery_shape\")\n",
    "sess.run(shape)"
   ]
  },
  {
   "cell_type": "markdown",
   "metadata": {},
   "source": [
    "TensorFlow Operations:OPs는 텐서 객체에(또는 텐서 객체를 사용하여서)계산을 수행하는 노드이다."
   ]
  },
  {
   "cell_type": "code",
   "execution_count": 13,
   "metadata": {},
   "outputs": [],
   "source": [
    "import numpy as np\n",
    "\n",
    "#Initialize some tensors to use in computation\n",
    "a = np.array([2,3], dtype=np.int32)\n",
    "b = np.array([4,5], dtype=np.int32)\n",
    "\n",
    "#Use 'tf.add()' to initialize an \"add\" Operation\n",
    "#The variable 'c' will be a handle to the Tensor output of this Op\n",
    "c = tf.add(a,b)\n",
    "\n",
    "c = tf.add(a,b,name=\"my_add_op\")# name은 tensor board에서 사용"
   ]
  },
  {
   "cell_type": "markdown",
   "metadata": {},
   "source": [
    "overloaded operators\n",
    "\n",
    "-x: tf.neg()\n",
    "~x: tf.logical_not() : tf.bool type 텐서객체에 사용\n",
    "\n",
    "abs(x): tf.abs()\n",
    "\n",
    "x+y: tf.add()\n",
    "x-y: tf.subtract()\n",
    "x*y: tf.multiply()\n",
    "x/y: tf.truediv() : 요소간 실수 나눗셈\n",
    "x//y: tf.floordiv() : 요소간 정수 나눗셈\n",
    "x%y: tf.mod()\n",
    "x**y: tf.pow()\n",
    "x<y: tf.less()\n",
    "x<=y: tf.less_equal()\n",
    "x>y: tf.greater()\n",
    "x>=y: tf.greater_equal()\n",
    "x&y: tf.logical_and()\n",
    "x|y: tf.logial_or()\n",
    "x^y: tf.logical_xor()\n",
    "\n",
    "-> name 부여는 불가능"
   ]
  },
  {
   "cell_type": "markdown",
   "metadata": {},
   "source": [
    "tensorflow graph"
   ]
  },
  {
   "cell_type": "code",
   "execution_count": null,
   "metadata": {},
   "outputs": [],
   "source": [
    "#Create a new graph: 자동으로 된다\n",
    "g = tf.Graph()\n",
    "with as_default():\n",
    "    # Create Operations as usual; they will be added to graph 'g'\n",
    "    a = tf.multiply(2,3)"
   ]
  },
  {
   "cell_type": "code",
   "execution_count": null,
   "metadata": {},
   "outputs": [],
   "source": [
    "#ignore default graph\n",
    "g1 = tf.Graph()\n",
    "g2 = tf.Graph()\n",
    "\n",
    "with g1.as_default():\n",
    "    # Define g1 operations, tensor, tensors, etc\n",
    "    \n",
    "with g2.as_default():\n",
    "    # Define g2 Operations, tensor, tensors, etc"
   ]
  },
  {
   "cell_type": "code",
   "execution_count": null,
   "metadata": {},
   "outputs": [],
   "source": [
    "#get handle to default graph\n",
    "g1 = tf.get_default_graph()\n",
    "g2 = tf.Graph()\n",
    "\n",
    "with g1.as_default():\n",
    "    # Define g1 operations, tensor, tensors,\n",
    "    \n",
    "with g2.as_default():\n",
    "    # Define g2 Operations, tensor, tensors, etc"
   ]
  },
  {
   "cell_type": "code",
   "execution_count": 9,
   "metadata": {},
   "outputs": [],
   "source": [
    "# Create Operations, Tensors, ets(using the default graph)\n",
    "a = tf.add(2,5)\n",
    "b = tf.multiply(a,3)\n",
    "\n",
    "sess = tf.Session()\n",
    "#same\n",
    "sess = tf.Session(graph = tf.get_default_graph())\n",
    "\n",
    "sess.run(b)\n",
    "writer = tf.summary.FileWriter('./my_graph',sess.graph)"
   ]
  },
  {
   "cell_type": "markdown",
   "metadata": {},
   "source": [
    "fetches (가져옴)\n",
    "sess.run([a,b]) #returns [7,21]\n",
    "\n",
    "#performs the computations needed to initialize Variables,but returns 'None'\n",
    "sess.run(tf.initialize_all_variables()) ->run operation returns 'None'"
   ]
  },
  {
   "cell_type": "markdown",
   "metadata": {},
   "source": [
    "FEED dictionary"
   ]
  },
  {
   "cell_type": "code",
   "execution_count": 11,
   "metadata": {},
   "outputs": [],
   "source": [
    "# Create Operations, Tensors, etc(using the default graph)\n",
    "a = tf.add(2,5)\n",
    "b = tf.multiply(a,3)\n",
    "\n",
    "#Strart up a 'Session' using the default graph\n",
    "sess = tf.Session()\n",
    "\n",
    "#Define a dictionary that says to replace the value of 'a' with 15\n",
    "replace_dict = {a: 15}\n",
    "\n",
    "#Run the session, passing in 'replace_dict' as the value to 'feed_dict'\n",
    "sess.run(b, feed_dict=replace_dict)\n",
    "\n",
    "sess.close()"
   ]
  },
  {
   "cell_type": "markdown",
   "metadata": {},
   "source": [
    "#Open Session\n",
    "sess = tf.Session()\n",
    "\n",
    "#Run the graph, write summary statistics, etc.\n",
    "...\n",
    "\n",
    "#Close the graph, release its resources\n",
    "sess.close()"
   ]
  },
  {
   "cell_type": "markdown",
   "metadata": {},
   "source": [
    "with tf.Session() as sess:\n",
    "    #Run graph, write summary statistics, etc.\n",
    "    ...\n",
    "#The Session closes automatically"
   ]
  },
  {
   "cell_type": "markdown",
   "metadata": {},
   "source": [
    "placeholder"
   ]
  },
  {
   "cell_type": "code",
   "execution_count": 15,
   "metadata": {},
   "outputs": [],
   "source": [
    "#Creates a placeholder vector of length 2 with data type int32\n",
    "a = tf.placeholder(tf.int32, shape=[2], name=\"my_input\") # shape 는 default 로도 가능\n",
    "\n",
    "b = tf.reduce_prod(a, name=\"prod_b\")\n",
    "c = tf.reduce_sum(a, name=\"sum_c\")\n",
    "\n",
    "d = tf.add(b,c,name=\"add_d\")"
   ]
  },
  {
   "cell_type": "markdown",
   "metadata": {},
   "source": [
    "placeholder & dictionary"
   ]
  },
  {
   "cell_type": "code",
   "execution_count": 16,
   "metadata": {},
   "outputs": [
    {
     "data": {
      "text/plain": [
       "23"
      ]
     },
     "execution_count": 16,
     "metadata": {},
     "output_type": "execute_result"
    }
   ],
   "source": [
    "sess = tf.Session()\n",
    "\n",
    "# key: 'a', the handle to the placeholder's output Tensor\n",
    "# value: a vector with value [5,3]\n",
    "input_dict={a: np.array([5,3], dtype=np.int32)}\n",
    "\n",
    "# fetch the value of 'd'\n",
    "sess.run(d, feed_dict=input_dict)"
   ]
  },
  {
   "cell_type": "markdown",
   "metadata": {},
   "source": [
    "변수"
   ]
  },
  {
   "cell_type": "code",
   "execution_count": 17,
   "metadata": {},
   "outputs": [],
   "source": [
    "import tensorflow as tf\n",
    "\n",
    "#pass in a starting value of three for the variable\n",
    "my_var = tf.Variable(3, name=\"my_variable\")"
   ]
  },
  {
   "cell_type": "code",
   "execution_count": 20,
   "metadata": {},
   "outputs": [],
   "source": [
    "add = tf.add(5, my_var)\n",
    "mul = tf.multiply(8, my_var)"
   ]
  },
  {
   "cell_type": "markdown",
   "metadata": {},
   "source": [
    "#2x2 matrix of zeros\n",
    "zeros = tf.zeros([2, 2])\n",
    "\n",
    "#vector of lenth 6 of ones\n",
    "ones = tf.ones([6])\n",
    "\n",
    "#3x3x3 Tensor of random uniform values (균등 확률 분포: 무작위 생성) between 0 and 10\n",
    "uniform = tf.random_uniform([3,3,3], minval =0, maxval =10)\n",
    "\n",
    "#3x3x3 Tenssor of normally distributed numbers; mean 0 and standard deviation 2\n",
    "normal = tf.random_normal([3,3,3], mean=0.0, stddev =2.0)\n",
    "\n",
    "#표준편차 2배 이상인 값은 생성하지 않음\n",
    "normal = tf.truncated_normal([2,2], mean=5.0, stddev=1.0)"
   ]
  },
  {
   "cell_type": "code",
   "execution_count": null,
   "metadata": {},
   "outputs": [],
   "source": [
    "#default value of mean =0.0\n",
    "#default value of stddev=1.0\n",
    "random_var = tf.Variable(tf.truncated_normal([2,2]))"
   ]
  },
  {
   "cell_type": "code",
   "execution_count": 22,
   "metadata": {},
   "outputs": [],
   "source": [
    "#graph로 자동 초기화된 variable을 모두 Session에서 초기화\n",
    "init = tf.global_variables_initializer()\n",
    "sess = tf.Session()\n",
    "sess.run(init)"
   ]
  },
  {
   "cell_type": "code",
   "execution_count": 24,
   "metadata": {},
   "outputs": [],
   "source": [
    "var1 = tf.Variable(0, name=\"initialize_me\")\n",
    "var2 = tf.Variable(1, name=\"no_initialization\")\n",
    "#일부만 초기화\n",
    "init = tf.variables_initializer([var1], name=\"init_var1\")\n",
    "sess = tf.Session()\n",
    "sess.run(init)"
   ]
  },
  {
   "cell_type": "code",
   "execution_count": null,
   "metadata": {},
   "outputs": [],
   "source": []
  }
 ],
 "metadata": {
  "kernelspec": {
   "display_name": "Python 3",
   "language": "python",
   "name": "python3"
  },
  "language_info": {
   "codemirror_mode": {
    "name": "ipython",
    "version": 3
   },
   "file_extension": ".py",
   "mimetype": "text/x-python",
   "name": "python",
   "nbconvert_exporter": "python",
   "pygments_lexer": "ipython3",
   "version": "3.6.3"
  }
 },
 "nbformat": 4,
 "nbformat_minor": 2
}
