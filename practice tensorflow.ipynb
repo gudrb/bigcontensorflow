{
 "cells": [
  {
   "cell_type": "code",
   "execution_count": 1,
   "metadata": {},
   "outputs": [],
   "source": [
    "# import tensorflow as tf\n",
    "# a = tf.constant(5,name=\"input_a\")\n",
    "# b = tf.constant(3,name=\"input_b\")\n",
    "# c = tf.multiply(a,b,name=\"mul_c\")\n",
    "# d = tf.add(a,b,name=\"add_d\")\n",
    "# e = tf.add(c,d,name=\"add_e\")"
   ]
  },
  {
   "cell_type": "code",
   "execution_count": 2,
   "metadata": {},
   "outputs": [],
   "source": [
    "# a = tf.placeholder(tf.int32,shape=[1],name=\"input_a\")\n",
    "# b = tf.placeholder(tf.int32,shape=[1],name=\"input_b\")\n",
    "# c = tf.multiply(a,b,name=\"mul_c\")\n",
    "# d = tf.add(a,b,name=\"add_d\")\n",
    "# e = tf.add(c,d,name=\"add_e\")"
   ]
  },
  {
   "cell_type": "code",
   "execution_count": 3,
   "metadata": {},
   "outputs": [
    {
     "name": "stderr",
     "output_type": "stream",
     "text": [
      "C:\\Users\\gudrb\\Anaconda3\\lib\\site-packages\\h5py\\__init__.py:36: FutureWarning: Conversion of the second argument of issubdtype from `float` to `np.floating` is deprecated. In future, it will be treated as `np.float64 == np.dtype(float).type`.\n",
      "  from ._conv import register_converters as _register_converters\n"
     ]
    }
   ],
   "source": [
    "import tensorflow as tf\n",
    "with tf.name_scope(\"Trainsformation\"):\n",
    "    a = tf.placeholder(tf.int32,shape=[2],name=\"inputvector\")\n",
    "    with tf.name_scope(\"Scope_A\"):\n",
    "        b = tf.reduce_prod(a,name=\"prod_b\")\n",
    "        c = tf.reduce_sum(a,name=\"sum_c\")\n",
    "    d = tf.add(b,c,name=\"add_d\")"
   ]
  },
  {
   "cell_type": "code",
   "execution_count": 4,
   "metadata": {},
   "outputs": [],
   "source": [
    "with tf.name_scope(\"update\"):    \n",
    "    update_input = tf.Variable(d,name=\"update_input\")\n",
    "    update_summary = tf.Variable(0,name=\"update_summary\")\n",
    "    update_num = tf.Variable(0,name=\"update_num\")\n",
    "    update_average = update_summary/update_num\n",
    "    init = tf.global_variables_initializer()\n",
    "    update_summary=update_summary.assign_add(update_input)\n",
    "    update_num=update_num.assign_add(1)"
   ]
  },
  {
   "cell_type": "code",
   "execution_count": 11,
   "metadata": {
    "scrolled": true
   },
   "outputs": [],
   "source": [
    "with tf.name_scope(\"Variables\"):\n",
    "    sum_of_outputs = tf.Variable(0,name=\"sum_of_outputs\")\n",
    "    sum_of_outputs=update_summary\n",
    "    num_of_runs = tf.Variable(0,name=\"num_of_runs\")\n",
    "    num_of_runs=update_num\n",
    "    init = tf.global_variables_initializer()"
   ]
  },
  {
   "cell_type": "code",
   "execution_count": 13,
   "metadata": {},
   "outputs": [],
   "source": [
    "with tf.name_scope(\"TensorBoard_Summaries\"):\n",
    "    output_summary = tf.Variable(0,name=\"Output_Summary\")\n",
    "    output_summary=update_input\n",
    "    total_summary = tf.Variable(0,name=\"Total_Summary\")\n",
    "    total_summary=update_summary\n",
    "    average_summary = tf.Variable(0,name=\"Average_Summary\")\n",
    "    average_summary=update_average\n",
    "    init = tf.global_variables_initializer()"
   ]
  },
  {
   "cell_type": "code",
   "execution_count": 16,
   "metadata": {},
   "outputs": [],
   "source": [
    "import numpy as np\n",
    "sess = tf.Session()\n",
    "input_dict = {a: np.array([5,3],dtype=np.int32)}\n",
    "sess.run(init, feed_dict=input_dict)"
   ]
  },
  {
   "cell_type": "code",
   "execution_count": 17,
   "metadata": {},
   "outputs": [],
   "source": [
    "writer = tf.summary.FileWriter('./name_scope_4',graph = tf.get_default_graph())\n",
    "writer.close()"
   ]
  },
  {
   "cell_type": "code",
   "execution_count": null,
   "metadata": {},
   "outputs": [],
   "source": [
    "import numpy as np\n",
    "input_dict ={a:np.array([5,3], dtype = np.int32)}\n",
    "sess.run(my_var,feed_dict=input_dict)"
   ]
  }
 ],
 "metadata": {
  "kernelspec": {
   "display_name": "Python 3",
   "language": "python",
   "name": "python3"
  },
  "language_info": {
   "codemirror_mode": {
    "name": "ipython",
    "version": 3
   },
   "file_extension": ".py",
   "mimetype": "text/x-python",
   "name": "python",
   "nbconvert_exporter": "python",
   "pygments_lexer": "ipython3",
   "version": "3.6.3"
  }
 },
 "nbformat": 4,
 "nbformat_minor": 2
}
