{
 "cells": [
  {
   "cell_type": "code",
   "execution_count": 21,
   "metadata": {},
   "outputs": [],
   "source": [
    "def getLength(t):\n",
    "    temp = (dim.value for dim in t.get_shape())\n",
    "    return functlls.reduce(operator.mul,temp)\n",
    "\n",
    "def showConstant(t):\n",
    "    sess = tf.InteractiveSession()\n",
    "    print(t.eval())\n",
    "    sess.close()\n",
    "\n",
    "def showConstantDetail(t):\n",
    "    sess = tf.InteractiveSession()\n",
    "    print(t.eval())\n",
    "    print('shape:',tf.shape(t))\n",
    "    print('size :',tf.size(t))\n",
    "    print('rank :',tf.rank(t))\n",
    "    print(t.get_shape())\n",
    "    sess.close()\n",
    "\n",
    "def showVariable(v):\n",
    "    sess = tf.InteractiveSession()\n",
    "    v.initializer.run()\n",
    "    print(v.eval())\n",
    "    sess.close()\n",
    "\n",
    "def showOperation(op):\n",
    "    print(op2Numpy(op))"
   ]
  },
  {
   "cell_type": "markdown",
   "metadata": {},
   "source": [
    "class RNN:\n",
    "    def step(self,x):\n",
    "        #update the hidden state\n",
    "        self.h = np.tanh(np.dot(self.W_hh, self.h)+np.dot(self.W_xh,x))\n",
    "        y = np.dot(self.w_hy,self.h)\n",
    "        return y"
   ]
  },
  {
   "cell_type": "markdown",
   "metadata": {},
   "source": [
    "rnn = RNN()\n",
    "y = rnn.step(x)"
   ]
  },
  {
   "cell_type": "markdown",
   "metadata": {},
   "source": [
    "2 layer rnn"
   ]
  },
  {
   "cell_type": "markdown",
   "metadata": {},
   "source": [
    "y1 = rnn1.step(x)\n",
    "y = rnn2.step(y1)"
   ]
  },
  {
   "cell_type": "markdown",
   "metadata": {},
   "source": [
    "# Classification"
   ]
  },
  {
   "cell_type": "code",
   "execution_count": 18,
   "metadata": {},
   "outputs": [],
   "source": [
    "import tensorflow as tf\n",
    "import numpy as np"
   ]
  },
  {
   "cell_type": "markdown",
   "metadata": {},
   "source": [
    "construct model"
   ]
  },
  {
   "cell_type": "code",
   "execution_count": 39,
   "metadata": {},
   "outputs": [],
   "source": [
    "#[털,날개]\n",
    "x_data = np.array(\n",
    "[[0,0],[1,0],[1,1],[0,0],[0,0],[0,1]])\n",
    "\n",
    "y_data = np.array([\n",
    "    [1,0,0], #기타\n",
    "    [0,1,0], #포유류\n",
    "    [0,0,1], #조류\n",
    "    [1,0,0],\n",
    "    [1,0,0],\n",
    "    [0,0,1]\n",
    "])\n",
    "\n",
    "x = tf.placeholder(tf.float32)\n",
    "y = tf.placeholder(tf.float32)\n",
    "\n",
    "w = tf.Variable(tf.random_uniform([2,3],-1.,1.))\n",
    "#-1부터 1까지 랜덤값 생성\n",
    "b = tf.Variable(tf.zeros([3]))\n",
    "\n",
    "L = tf.add(tf.matmul(x,w),b)\n",
    "6x2 * 2x3 = 6x3\n",
    "L= tf.nn.relu(L)\n",
    "\n",
    "model = tf.nn.softmax(L)\n",
    "# ex) [[0.1 0.7 0.2]]\n",
    "cost = tf.reduce_mean(-tf.reduce_sum(y*tf.log(model),axis=1))\n",
    "#cross entrophy\n",
    "\n",
    "optimizer = tf.train.GradientDescentOptimizer(learning_rate=0.01)\n",
    "train_op = optimizer.minimize(cost)"
   ]
  },
  {
   "cell_type": "markdown",
   "metadata": {},
   "source": [
    "train model"
   ]
  },
  {
   "cell_type": "code",
   "execution_count": 40,
   "metadata": {},
   "outputs": [
    {
     "name": "stdout",
     "output_type": "stream",
     "text": [
      "10 1.1664835\n",
      "20 1.1524843\n",
      "30 1.1389569\n",
      "40 1.1268729\n",
      "50 1.1157511\n",
      "60 1.1049796\n",
      "70 1.0945474\n",
      "80 1.0844431\n",
      "90 1.074655\n",
      "100 1.065172\n"
     ]
    }
   ],
   "source": [
    "init = tf.global_variables_initializer()\n",
    "sess = tf.Session()\n",
    "sess.run(init)\n",
    "\n",
    "for step in range(100):\n",
    "    sess.run(train_op, feed_dict={x: x_data, y: y_data})\n",
    "    \n",
    "    if(step+1)%10 ==0:\n",
    "     print(step+1, sess.run(cost,feed_dict={x:x_data,y:y_data}))"
   ]
  },
  {
   "cell_type": "markdown",
   "metadata": {},
   "source": [
    "check result"
   ]
  },
  {
   "cell_type": "code",
   "execution_count": 56,
   "metadata": {},
   "outputs": [
    {
     "name": "stdout",
     "output_type": "stream",
     "text": [
      "예측값: [2 1 1 2 2 2]\n",
      "실제값: [0 1 2 0 0 2]\n",
      "정확도: 33.33\n"
     ]
    }
   ],
   "source": [
    "prediction = tf.argmax(model,1)\n",
    "target = tf.argmax(y,1)\n",
    "#두번째 인자는 열 기준\n",
    "\n",
    "print('예측값:',sess.run(prediction,feed_dict={x:x_data}))\n",
    "print('실제값:',sess.run(target,feed_dict={y:y_data}))\n",
    "\n",
    "is_correct = tf.equal(prediction,target)\n",
    "accuracy = tf.reduce_mean(tf.cast(is_correct,tf.float32))\n",
    "print('정확도: %.2f' % sess.run(accuracy * 100, feed_dict={x: x_data, y: y_data}))\n"
   ]
  },
  {
   "cell_type": "code",
   "execution_count": 46,
   "metadata": {
    "scrolled": true
   },
   "outputs": [],
   "source": [
    "accuracy = tf.reduce_mean(tf.cast(is_correct, tf.float32))\n",
    "print('정확도: %.2ㄹ')"
   ]
  },
  {
   "cell_type": "markdown",
   "metadata": {},
   "source": [
    "# RNN"
   ]
  },
  {
   "cell_type": "code",
   "execution_count": 16,
   "metadata": {},
   "outputs": [
    {
     "ename": "SyntaxError",
     "evalue": "invalid syntax (<ipython-input-16-3ccf7ae970ab>, line 2)",
     "output_type": "error",
     "traceback": [
      "\u001b[1;36m  File \u001b[1;32m\"<ipython-input-16-3ccf7ae970ab>\"\u001b[1;36m, line \u001b[1;32m2\u001b[0m\n\u001b[1;33m    from deep-learning-from-scratch-master\\dataset.mnist import imput_data\u001b[0m\n\u001b[1;37m             ^\u001b[0m\n\u001b[1;31mSyntaxError\u001b[0m\u001b[1;31m:\u001b[0m invalid syntax\n"
     ]
    }
   ],
   "source": [
    "import tensorflow as tf\n",
    "from deep-learning-from-scratch-master\\dataset.mnist import imput_data\n",
    "import numpy"
   ]
  },
  {
   "cell_type": "markdown",
   "metadata": {},
   "source": [
    "# lstm"
   ]
  },
  {
   "cell_type": "code",
   "execution_count": 17,
   "metadata": {},
   "outputs": [
    {
     "ename": "SyntaxError",
     "evalue": "invalid syntax (<ipython-input-17-791b75210ecb>, line 1)",
     "output_type": "error",
     "traceback": [
      "\u001b[1;36m  File \u001b[1;32m\"<ipython-input-17-791b75210ecb>\"\u001b[1;36m, line \u001b[1;32m1\u001b[0m\n\u001b[1;33m    git clone https://github.com/golbin/TensorFlow-Tutorials.git\u001b[0m\n\u001b[1;37m            ^\u001b[0m\n\u001b[1;31mSyntaxError\u001b[0m\u001b[1;31m:\u001b[0m invalid syntax\n"
     ]
    }
   ],
   "source": [
    "git clone https://github.com/golbin/TensorFlow-Tutorials.git"
   ]
  }
 ],
 "metadata": {
  "kernelspec": {
   "display_name": "Python 3",
   "language": "python",
   "name": "python3"
  },
  "language_info": {
   "codemirror_mode": {
    "name": "ipython",
    "version": 3
   },
   "file_extension": ".py",
   "mimetype": "text/x-python",
   "name": "python",
   "nbconvert_exporter": "python",
   "pygments_lexer": "ipython3",
   "version": "3.6.3"
  }
 },
 "nbformat": 4,
 "nbformat_minor": 2
}
