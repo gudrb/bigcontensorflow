{
 "cells": [
  {
   "cell_type": "code",
   "execution_count": 263,
   "metadata": {},
   "outputs": [
    {
     "name": "stderr",
     "output_type": "stream",
     "text": [
      "C:\\Users\\gudrb\\Anaconda3\\lib\\site-packages\\ipykernel_launcher.py:19: UserWarning: Boolean Series key will be reindexed to match DataFrame index.\n"
     ]
    }
   ],
   "source": [
    "import pandas as pd\n",
    "import numpy as np\n",
    "from math import sqrt\n",
    "import sqlite3\n",
    "import matplotlib.pyplot as plt\n",
    "from sklearn.preprocessing import MinMaxScaler\n",
    "from sklearn.preprocessing import StandardScaler\n",
    "import pickle\n",
    "from datetime import datetime,timedelta\n",
    "from pandas import Series, DataFrame\n",
    "def convert(s):\n",
    "    return datetime.strptime(s, '%Y-%m-%d').date()\n",
    "features = pd.read_sql(\"SELECT * FROM 'features'\", con, index_col=None)\n",
    "conn = sqlite3.connect('./paddingmovies2.db')\n",
    "c = conn.cursor()\n",
    "start_date = '2015-01-07'\n",
    "end_date = '2018-06-30'\n",
    "features_20150101_20180630 = features[features['open'] >= start_date]\n",
    "features_20150101_20180630 = features_20150101_20180630[features['open'] <= end_date]"
   ]
  },
  {
   "cell_type": "code",
   "execution_count": 264,
   "metadata": {
    "scrolled": true
   },
   "outputs": [
    {
     "name": "stdout",
     "output_type": "stream",
     "text": [
      "[['2014-12-15' '0' '0']\n",
      " ['2014-12-16' '0' '0']\n",
      " ['2014-12-17' '0' '0']\n",
      " ['2014-12-18' '0' '0']\n",
      " ['2014-12-19' '0' '0']\n",
      " ['2014-12-20' '0' '0']\n",
      " ['2014-12-21' '0' '0']\n",
      " ['2014-12-22' '0' '0']\n",
      " ['2014-12-23' '0' '0']\n",
      " ['2014-12-24' '0' '0']\n",
      " ['2014-12-25' '0' '0']\n",
      " ['2014-12-26' '0' '0']\n",
      " ['2014-12-27' '0' '0']\n",
      " ['2014-12-28' '0' '0']\n",
      " ['2014-12-29' '0' '0']\n",
      " ['2014-12-30' '0' '0']\n",
      " ['2014-12-31' '0' '0']\n",
      " ['2015-01-01' '0' '0']\n",
      " ['2015-01-02' '0' '0']\n",
      " ['2015-01-03' '0' '0']\n",
      " ['2015-01-04' '0' '0']\n",
      " ['2015-01-05' '0' '0']\n",
      " ['2015-01-06' '0' '0']\n",
      " ['2015-01-07' '26,707' '1,489']\n",
      " ['2015-01-08' '27,819' '1,499']\n",
      " ['2015-01-09' '30,753' '1,492']\n",
      " ['2015-01-10' '61,844' '1,411']\n",
      " ['2015-01-11' '55,198' '1,336']\n",
      " ['2015-01-12' '18,429' '1,324']\n",
      " ['2015-01-13' '17,773' '1,306']\n",
      " ['2015-01-14' '2,396' '158']\n",
      " ['2015-01-15' '1,951' '135']\n",
      " ['2015-01-16' '2,343' '137']\n",
      " ['2015-01-17' '3,507' '106']\n",
      " ['2015-01-18' '3,097' '101']\n",
      " ['2015-01-19' '1,378' '118']\n",
      " ['2015-01-20' '1,498' '114']\n",
      " ['2015-01-21' '136' '9']\n",
      " ['2015-01-22' '77' '5']\n",
      " ['2015-01-23' '89' '4']\n",
      " ['2015-01-24' '112' '4']\n",
      " ['2015-01-25' '126' '4']\n",
      " ['2015-01-26' '51' '5']\n",
      " ['2015-01-27' '54' '6']\n",
      " ['2015-01-28' '59' '1']\n",
      " ['2015-01-29' '80' '1']\n",
      " ['2015-01-30' '75' '1']]\n"
     ]
    },
    {
     "ename": "OperationalError",
     "evalue": "table 'p0' already exists",
     "output_type": "error",
     "traceback": [
      "\u001b[1;31m---------------------------------------------------------------------------\u001b[0m",
      "\u001b[1;31mOperationalError\u001b[0m                          Traceback (most recent call last)",
      "\u001b[1;32m<ipython-input-264-1138e55b1bcd>\u001b[0m in \u001b[0;36m<module>\u001b[1;34m()\u001b[0m\n\u001b[0;32m     26\u001b[0m     \u001b[0mvar_string\u001b[0m \u001b[1;33m=\u001b[0m \u001b[1;34m', '\u001b[0m\u001b[1;33m.\u001b[0m\u001b[0mjoin\u001b[0m\u001b[1;33m(\u001b[0m\u001b[1;34m'?'\u001b[0m \u001b[1;33m*\u001b[0m \u001b[1;36m3\u001b[0m\u001b[1;33m)\u001b[0m\u001b[1;33m\u001b[0m\u001b[0m\n\u001b[0;32m     27\u001b[0m \u001b[1;33m\u001b[0m\u001b[0m\n\u001b[1;32m---> 28\u001b[1;33m     \u001b[0mc\u001b[0m\u001b[1;33m.\u001b[0m\u001b[0mexecute\u001b[0m\u001b[1;33m(\u001b[0m\u001b[1;34m\"CREATE TABLE\"\u001b[0m\u001b[1;33m+\u001b[0m\u001b[1;34m\"'p\"\u001b[0m \u001b[1;33m+\u001b[0m\u001b[0mstr\u001b[0m\u001b[1;33m(\u001b[0m\u001b[0mj\u001b[0m\u001b[1;33m)\u001b[0m\u001b[1;33m+\u001b[0m \u001b[1;34m\"'\"\u001b[0m\u001b[1;33m+\u001b[0m\u001b[1;34m\"(date TEXT, audience TEXT, play TEXT)\"\u001b[0m\u001b[1;33m)\u001b[0m\u001b[1;33m\u001b[0m\u001b[0m\n\u001b[0m\u001b[0;32m     29\u001b[0m \u001b[1;33m\u001b[0m\u001b[0m\n\u001b[0;32m     30\u001b[0m     \u001b[0mquery_string\u001b[0m \u001b[1;33m=\u001b[0m \u001b[1;34m'INSERT INTO'\u001b[0m\u001b[1;33m+\u001b[0m\u001b[1;34m\"'p\"\u001b[0m \u001b[1;33m+\u001b[0m\u001b[0mstr\u001b[0m\u001b[1;33m(\u001b[0m\u001b[0mj\u001b[0m\u001b[1;33m)\u001b[0m\u001b[1;33m+\u001b[0m \u001b[1;34m\"'\"\u001b[0m\u001b[1;33m+\u001b[0m\u001b[1;34m' VALUES (%s);'\u001b[0m \u001b[1;33m%\u001b[0m \u001b[0mvar_string\u001b[0m\u001b[1;33m\u001b[0m\u001b[0m\n",
      "\u001b[1;31mOperationalError\u001b[0m: table 'p0' already exists"
     ]
    }
   ],
   "source": [
    "j=0\n",
    "for rows in features_20150101_20180630.iterrows():\n",
    "    tmp = pd.read_sql(\"SELECT * FROM \"+ \"'\" +rows[1][1]+ \"'\", con, index_col=None)\n",
    "    tmp.drop_duplicates(['date'], inplace=True)\n",
    "    \n",
    "    now = convert(rows[1][3])\n",
    "    L=[]\n",
    "    L=pd.date_range(start = now - timedelta(days=23),end= now + timedelta(days=23))\n",
    "\n",
    "    df = pd.DataFrame(index=range(47))\n",
    "    df[:]=\"0\"\n",
    "    df['date']=L.strftime(\"%Y-%m-%d\")\n",
    "    df.set_index(df['date'], inplace=True)\n",
    "    \n",
    "    tmp.set_index(tmp['date'], inplace=True)\n",
    "    tmp=tmp[tmp['date']<(convert(rows[1][3])+ timedelta(days=24)).strftime(\"%Y-%m-%d\")]\n",
    "    tmp=tmp[tmp['date']>(convert(rows[1][3])- timedelta(days=24)).strftime(\"%Y-%m-%d\")]\n",
    "    \n",
    "    df_merged = pd.merge(df,tmp, how=\"outer\")\n",
    "    df_merged.isnull()\n",
    "    # df_merged\n",
    "    \n",
    "    df_merged[df_merged.isnull()] = 0\n",
    "    df_merged=np.array(df_merged)\n",
    "    \n",
    "    var_string = ', '.join('?' * 3)\n",
    "    \n",
    "    c.execute(\"CREATE TABLE\"+\"'p\" +str(j)+ \"'\"+\"(date TEXT, audience TEXT, play TEXT)\")\n",
    "\n",
    "    query_string = 'INSERT INTO'+\"'p\" +str(j)+ \"'\"+' VALUES (%s);' % var_string\n",
    "\n",
    "    c.executemany(query_string,df_merged)\n",
    "    j =j+1\n",
    "conn.commit()"
   ]
  },
  {
   "cell_type": "code",
   "execution_count": 246,
   "metadata": {},
   "outputs": [
    {
     "data": {
      "text/plain": [
       "<sqlite3.Cursor at 0x1da0de0b6c0>"
      ]
     },
     "execution_count": 246,
     "metadata": {},
     "output_type": "execute_result"
    }
   ],
   "source": [
    "# c.execute('DROP TABLE pj')"
   ]
  },
  {
   "cell_type": "code",
   "execution_count": null,
   "metadata": {},
   "outputs": [],
   "source": [
    "import sqlite3\n",
    "\n",
    "conn = sqlite3.connect('./movies3.db')\n",
    "c = conn.cursor()"
   ]
  },
  {
   "cell_type": "code",
   "execution_count": 233,
   "metadata": {
    "scrolled": true
   },
   "outputs": [],
   "source": [
    "# array2d = [['?' for x in range(4)] for x in range(47)] \n",
    "\n",
    "\n",
    "\n",
    "# # var_string = ', '.join('?' * len(array2d))\n",
    "# var_string = ', '.join('?' * 3)\n",
    "#열 갯수 결정\n",
    "# # var_string=array2d\n",
    "# c.execute(\"CREATE TABLE\"+\"'\" +j+ \"'\"+\"(date TEXT, audience TEXT, play TEXT)\")\n",
    "\n",
    "# query_string = 'INSERT INTO'+\"'\" +j+ \"'\"+' VALUES (%s);' % var_string\n",
    "\n",
    "# c.executemany(query_string,df_merged)\n",
    "# conn.commit()"
   ]
  }
 ],
 "metadata": {
  "kernelspec": {
   "display_name": "Python 3",
   "language": "python",
   "name": "python3"
  },
  "language_info": {
   "codemirror_mode": {
    "name": "ipython",
    "version": 3
   },
   "file_extension": ".py",
   "mimetype": "text/x-python",
   "name": "python",
   "nbconvert_exporter": "python",
   "pygments_lexer": "ipython3",
   "version": "3.6.3"
  }
 },
 "nbformat": 4,
 "nbformat_minor": 2
}
